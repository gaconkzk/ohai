{
 "cells": [
  {
   "cell_type": "markdown",
   "metadata": {},
   "source": [
    "# My first notebook working on create a agent for running some games\n",
    "\n",
    "## Preparation\n",
    "Install xvfb\n",
    "```shell\n",
    "$sudo apt install xvfb\n",
    "```\n",
    "\n",
    "Download and install latest anaconda.\n",
    "\n",
    "create your python environment:\n",
    "```shell\n",
    "$conda create --name ohai python=3.6\n",
    "```\n",
    "\n",
    "Activate it\n",
    "```shell\n",
    "$source activate ohai\n",
    "```\n",
    "\n",
    "Clone this repository\n",
    "\n",
    "Then run in your cloned folder\n",
    "```shell\n",
    "$cd ohai\n",
    "$./start.sh\n",
    "```\n",
    "\n",
    "Open this notebook\n",
    "\n",
    "Run the first code block (only once) to install neccessaries packages (depends on your internet connection, this might take a while)"
   ]
  },
  {
   "cell_type": "code",
   "execution_count": 6,
   "metadata": {},
   "outputs": [
    {
     "name": "stdout",
     "output_type": "stream",
     "text": [
      "Requirement already satisfied: msgpack in /home/tntvu/anaconda3/envs/ohai/lib/python3.6/site-packages (0.5.6)\n",
      "Requirement already satisfied: seaborn in /home/tntvu/anaconda3/envs/ohai/lib/python3.6/site-packages (0.8.1)\n",
      "Requirement already satisfied: gym-retro in /home/tntvu/.local/lib/python3.6/site-packages (0.5.6)\n",
      "Requirement already satisfied: Pillow in /home/tntvu/anaconda3/envs/ohai/lib/python3.6/site-packages (5.1.0)\n",
      "Requirement already satisfied: keras in /home/tntvu/anaconda3/envs/ohai/lib/python3.6/site-packages (2.2.0)\n",
      "Requirement already satisfied: tensorflow in /home/tntvu/anaconda3/envs/ohai/lib/python3.6/site-packages (1.8.0)\n",
      "Requirement already satisfied: opencv-python in /home/tntvu/anaconda3/envs/ohai/lib/python3.6/site-packages (3.4.1.15)\n",
      "Requirement already satisfied: pandas in /home/tntvu/anaconda3/envs/ohai/lib/python3.6/site-packages (0.23.0)\n",
      "Requirement already satisfied: matplotlib in /home/tntvu/anaconda3/envs/ohai/lib/python3.6/site-packages (2.2.2)\n",
      "Requirement already satisfied: scipy in /home/tntvu/anaconda3/envs/ohai/lib/python3.6/site-packages (1.1.0)\n",
      "Collecting JSAnimation\n",
      "  Downloading https://files.pythonhosted.org/packages/3c/e6/a93a578400c38a43af8b4271334ed2444b42d65580f1d6721c9fe32e9fd8/JSAnimation-0.1.tar.gz\n",
      "Requirement already satisfied: numpy in /home/tntvu/.local/lib/python3.6/site-packages (from seaborn) (1.14.5)\n",
      "Requirement already satisfied: gym in /home/tntvu/.local/lib/python3.6/site-packages (from gym-retro) (0.10.5)\n",
      "Requirement already satisfied: keras-applications==1.0.2 in /home/tntvu/anaconda3/envs/ohai/lib/python3.6/site-packages (from keras) (1.0.2)\n",
      "Requirement already satisfied: h5py in /home/tntvu/anaconda3/envs/ohai/lib/python3.6/site-packages (from keras) (2.7.1)\n",
      "Requirement already satisfied: pyyaml in /home/tntvu/anaconda3/envs/ohai/lib/python3.6/site-packages (from keras) (3.12)\n",
      "Requirement already satisfied: keras-preprocessing==1.0.1 in /home/tntvu/anaconda3/envs/ohai/lib/python3.6/site-packages (from keras) (1.0.1)\n",
      "Requirement already satisfied: six>=1.9.0 in /home/tntvu/.local/lib/python3.6/site-packages (from keras) (1.11.0)\n",
      "Requirement already satisfied: protobuf>=3.4.0 in /home/tntvu/anaconda3/envs/ohai/lib/python3.6/site-packages (from tensorflow) (3.5.2.post1)\n",
      "Requirement already satisfied: astor>=0.6.0 in /home/tntvu/anaconda3/envs/ohai/lib/python3.6/site-packages (from tensorflow) (0.6.2)\n",
      "Requirement already satisfied: gast>=0.2.0 in /home/tntvu/anaconda3/envs/ohai/lib/python3.6/site-packages (from tensorflow) (0.2.0)\n",
      "Requirement already satisfied: grpcio>=1.8.6 in /home/tntvu/anaconda3/envs/ohai/lib/python3.6/site-packages (from tensorflow) (1.12.1)\n",
      "Requirement already satisfied: absl-py>=0.1.6 in /home/tntvu/anaconda3/envs/ohai/lib/python3.6/site-packages (from tensorflow) (0.2.2)\n",
      "Requirement already satisfied: tensorboard<1.9.0,>=1.8.0 in /home/tntvu/anaconda3/envs/ohai/lib/python3.6/site-packages (from tensorflow) (1.8.0)\n",
      "Requirement already satisfied: wheel>=0.26 in /home/tntvu/anaconda3/envs/ohai/lib/python3.6/site-packages (from tensorflow) (0.31.1)\n",
      "Requirement already satisfied: termcolor>=1.1.0 in /home/tntvu/anaconda3/envs/ohai/lib/python3.6/site-packages (from tensorflow) (1.1.0)\n",
      "Requirement already satisfied: python-dateutil>=2.5.0 in /home/tntvu/anaconda3/envs/ohai/lib/python3.6/site-packages (from pandas) (2.7.3)\n",
      "Requirement already satisfied: pytz>=2011k in /home/tntvu/anaconda3/envs/ohai/lib/python3.6/site-packages (from pandas) (2018.4)\n",
      "Requirement already satisfied: cycler>=0.10 in /home/tntvu/anaconda3/envs/ohai/lib/python3.6/site-packages (from matplotlib) (0.10.0)\n",
      "Requirement already satisfied: pyparsing!=2.0.4,!=2.1.2,!=2.1.6,>=2.0.1 in /home/tntvu/anaconda3/envs/ohai/lib/python3.6/site-packages (from matplotlib) (2.2.0)\n",
      "Requirement already satisfied: kiwisolver>=1.0.1 in /home/tntvu/anaconda3/envs/ohai/lib/python3.6/site-packages (from matplotlib) (1.0.1)\n",
      "Requirement already satisfied: requests>=2.0 in /home/tntvu/.local/lib/python3.6/site-packages (from gym->gym-retro) (2.19.1)\n",
      "Requirement already satisfied: pyglet>=1.2.0 in /home/tntvu/.local/lib/python3.6/site-packages (from gym->gym-retro) (1.3.2)\n",
      "Requirement already satisfied: setuptools in /home/tntvu/anaconda3/envs/ohai/lib/python3.6/site-packages (from protobuf>=3.4.0->tensorflow) (39.1.0)\n",
      "Requirement already satisfied: html5lib==0.9999999 in /home/tntvu/anaconda3/envs/ohai/lib/python3.6/site-packages (from tensorboard<1.9.0,>=1.8.0->tensorflow) (0.9999999)\n",
      "Requirement already satisfied: bleach==1.5.0 in /home/tntvu/anaconda3/envs/ohai/lib/python3.6/site-packages (from tensorboard<1.9.0,>=1.8.0->tensorflow) (1.5.0)\n",
      "Requirement already satisfied: markdown>=2.6.8 in /home/tntvu/anaconda3/envs/ohai/lib/python3.6/site-packages (from tensorboard<1.9.0,>=1.8.0->tensorflow) (2.6.11)\n",
      "Requirement already satisfied: werkzeug>=0.11.10 in /home/tntvu/anaconda3/envs/ohai/lib/python3.6/site-packages (from tensorboard<1.9.0,>=1.8.0->tensorflow) (0.14.1)\n",
      "Requirement already satisfied: chardet<3.1.0,>=3.0.2 in /home/tntvu/.local/lib/python3.6/site-packages (from requests>=2.0->gym->gym-retro) (3.0.4)\n",
      "Requirement already satisfied: urllib3<1.24,>=1.21.1 in /home/tntvu/.local/lib/python3.6/site-packages (from requests>=2.0->gym->gym-retro) (1.23)\n",
      "Requirement already satisfied: idna<2.8,>=2.5 in /home/tntvu/.local/lib/python3.6/site-packages (from requests>=2.0->gym->gym-retro) (2.7)\n",
      "Requirement already satisfied: certifi>=2017.4.17 in /home/tntvu/.local/lib/python3.6/site-packages (from requests>=2.0->gym->gym-retro) (2018.4.16)\n",
      "Requirement already satisfied: future in /home/tntvu/.local/lib/python3.6/site-packages (from pyglet>=1.2.0->gym->gym-retro) (0.16.0)\n",
      "Building wheels for collected packages: JSAnimation\n",
      "  Running setup.py bdist_wheel for JSAnimation ... \u001b[?25ldone\n",
      "\u001b[?25h  Stored in directory: /home/tntvu/.cache/pip/wheels/3c/c2/b2/b444dffc3eed9c78139288d301c4009a42c0dd061d3b62cead\n",
      "Successfully built JSAnimation\n",
      "Installing collected packages: JSAnimation\n",
      "Successfully installed JSAnimation-0.1\n"
     ]
    }
   ],
   "source": [
    "import sys\n",
    "!{sys.executable} -m pip install msgpack seaborn gym-retro Pillow keras tensorflow opencv-python pandas matplotlib scipy JSAnimation"
   ]
  },
  {
   "cell_type": "markdown",
   "metadata": {},
   "source": [
    "Find and download the rom you wanna work base on the sha find on retro git (branch develop for more games).\n",
    "Example for Contra rom: https://github.com/openai/retro/blob/master/data/SonicTheHedgehog2-Genesis/rom.sha.\n",
    "\n",
    "Download the rom and put it into roms folder. Then run below code:"
   ]
  },
  {
   "cell_type": "code",
   "execution_count": 3,
   "metadata": {},
   "outputs": [
    {
     "name": "stdout",
     "output_type": "stream",
     "text": [
      "Importing 2 potential games...\r\n",
      "Importing SonicTheHedgehog2-Genesis\r\n",
      "Imported 1 games\r\n"
     ]
    }
   ],
   "source": [
    "!{sys.executable} -m retro.import roms/"
   ]
  },
  {
   "cell_type": "markdown",
   "metadata": {},
   "source": [
    "WIP I: Here we import real packages for our work."
   ]
  },
  {
   "cell_type": "code",
   "execution_count": 55,
   "metadata": {},
   "outputs": [],
   "source": [
    "import retro\n",
    "import cv2\n",
    "import os\n",
    "import time\n",
    "import matplotlib.pyplot as plt\n",
    "%matplotlib inline\n",
    "\n",
    "# Imports specifically so we can render outputs in Jupyter.\n",
    "from JSAnimation.IPython_display import display_animation\n",
    "from matplotlib import animation\n",
    "from IPython import display\n",
    "\n",
    "def display_frames_as_gif(frames):\n",
    "    \"\"\"\n",
    "    Displays a list of frames as a gif, with controls\n",
    "    \"\"\"\n",
    "    patch = plt.imshow(frames[0])\n",
    "    plt.axis('off')\n",
    "    \n",
    "    def animate(i):\n",
    "        patch.set_data(frames[i])\n",
    "    \n",
    "    anim = animation.FuncAnimation(plt.gcf(), animate, frames = len(frames), interval=50)\n",
    "    display(display_animation(anim, default_mode='loop'))\n",
    "\n",
    "def show_state(env, step=0):\n",
    "    plt.figure(3)\n",
    "    plt.clf()\n",
    "    plt.imshow(env.render(mode='rgb_array'))\n",
    "    plt.axis('off')\n",
    "    plt.title(\"%s - %s. Step: %d\" % (env.gamename, env.statename,step))\n",
    "    \n",
    "#     plt.pause(0.001)  # pause for plots to update\n",
    "\n",
    "    #if is_ipython:\n",
    "    display.display(plt.gcf())\n",
    "    display.clear_output(wait=True)\n",
    "#     time.sleep(0.000)"
   ]
  },
  {
   "cell_type": "markdown",
   "metadata": {},
   "source": [
    "The very first run, I also try to stop the env when having a KeyboardInterrupt Exception. For now, we can stop it by click on `Stop` button of this notebook."
   ]
  },
  {
   "cell_type": "code",
   "execution_count": 56,
   "metadata": {},
   "outputs": [
    {
     "data": {
      "image/png": "[encoded data removed]",
      "text/plain": [
       "<Figure size 432x288 with 1 Axes>"
      ]
     },
     "metadata": {},
     "output_type": "display_data"
    }
   ],
   "source": [
    "def main():\n",
    "    env = retro.make(game='SonicTheHedgehog2-Genesis', state='OilOceanZone.Act1')\n",
    "    obs = env.reset()\n",
    "    frames = []\n",
    "    try:\n",
    "        for step in range(100):\n",
    "            obs, rew, done, info = env.step(env.action_space.sample())\n",
    "            # env.render()\n",
    "#             frames.append(env.render(mode = 'rgb_array'))\n",
    "            show_state(env,step)\n",
    "            if done:\n",
    "                obs = env.reset()\n",
    "                break\n",
    "        env.render(close=True)\n",
    "    except KeyboardInterrupt as exc:\n",
    "        print('Stopped by me. Me not an exception :D', exc)\n",
    "        env.close()\n",
    "#     display_frames_as_gif(frames)\n",
    "\n",
    "if __name__ == '__main__':\n",
    "    main()"
   ]
  },
  {
   "cell_type": "markdown",
   "metadata": {},
   "source": [
    "We can see the simulator render the game with our agent randomly do actions\n",
    "![first screen](files/images/sc1.png)"
   ]
  }
 ],
 "metadata": {
  "kernelspec": {
   "display_name": "Python 3",
   "language": "python",
   "name": "python3"
  },
  "language_info": {
   "codemirror_mode": {
    "name": "ipython",
    "version": 3
   },
   "file_extension": ".py",
   "mimetype": "text/x-python",
   "name": "python",
   "nbconvert_exporter": "python",
   "pygments_lexer": "ipython3",
   "version": "3.6.5"
  }
 },
 "nbformat": 4,
 "nbformat_minor": 2
}
