{
 "cells": [
  {
   "cell_type": "markdown",
   "metadata": {},
   "source": [
    "# My first notebook working on create a agent for running Sonic The Hedgehog 2\n",
    "\n",
    "## Preparation\n",
    "- Download and install latest anaconda\n",
    "- Clone this repository\n",
    "- Then run in your cloned folder\n",
    "```shell\n",
    "jupyter notebook\n",
    "```\n",
    "- Open this notebook\n",
    "\n",
    "- Run the first code block (only once) for install neccessaries packages"
   ]
  },
  {
   "cell_type": "code",
   "execution_count": null,
   "metadata": {},
   "outputs": [],
   "source": [
    "import sys\n",
    "!{sys.executable} -m pip install msgpack seaborn gym-retro Pillow keras tensorflow opencv-python pandas matplotlib scipy"
   ]
  },
  {
   "cell_type": "markdown",
   "metadata": {},
   "source": [
    "WIP I: Here we import real package for our work."
   ]
  },
  {
   "cell_type": "code",
   "execution_count": 5,
   "metadata": {},
   "outputs": [],
   "source": [
    "import retro\n",
    "import cv2\n",
    "import os"
   ]
  },
  {
   "cell_type": "markdown",
   "metadata": {},
   "source": [
    "The main method :D we also try to stop the env when having a KeyboardInterrupt Exception."
   ]
  },
  {
   "cell_type": "code",
   "execution_count": 6,
   "metadata": {},
   "outputs": [
    {
     "name": "stdout",
     "output_type": "stream",
     "text": [
      "Stopped by Me me not an exception :D \n"
     ]
    }
   ],
   "source": [
    "def main():\n",
    "    env = retro.make(game='SonicTheHedgehog2-Genesis', state='AquaticRuinZone.Act1')\n",
    "    obs = env.reset()\n",
    "    try:\n",
    "        while True:\n",
    "            obs, rew, done, info = env.step(env.action_space.sample())\n",
    "            env.render()\n",
    "            if done:\n",
    "                obs = env.reset()\n",
    "    except KeyboardInterrupt as exc:\n",
    "        print('Stopped by Me me not an exception :D', exc)\n",
    "        env.close()\n",
    "\n",
    "if __name__ == '__main__':\n",
    "    main()"
   ]
  },
  {
   "cell_type": "markdown",
   "metadata": {},
   "source": [
    "We can see the simulator render the game with our agent randomly do actions\n",
    "![first screen](files/images/sc1.png)"
   ]
  }
 ],
 "metadata": {
  "kernelspec": {
   "display_name": "Python 3",
   "language": "python",
   "name": "python3"
  },
  "language_info": {
   "codemirror_mode": {
    "name": "ipython",
    "version": 3
   },
   "file_extension": ".py",
   "mimetype": "text/x-python",
   "name": "python",
   "nbconvert_exporter": "python",
   "pygments_lexer": "ipython3",
   "version": "3.6.5"
  }
 },
 "nbformat": 4,
 "nbformat_minor": 2
}
