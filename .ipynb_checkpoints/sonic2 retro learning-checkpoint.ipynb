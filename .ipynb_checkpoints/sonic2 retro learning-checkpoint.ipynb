{
 "cells": [
  {
   "cell_type": "markdown",
   "metadata": {},
   "source": [
    "# My first notebook working on create a agent for running some games\n",
    "\n",
    "## Preparation\n",
    "Download and install latest anaconda\n",
    "Clone this repository\n",
    "Then run in your cloned folder\n",
    "```shell\n",
    "jupyter notebook\n",
    "```\n",
    "Open this notebook\n",
    "\n",
    "Run the first code block (only once) to install neccessaries packages (depends on your internet connection, this might take a while)"
   ]
  },
  {
   "cell_type": "code",
   "execution_count": 3,
   "metadata": {},
   "outputs": [
    {
     "name": "stdout",
     "output_type": "stream",
     "text": [
      "Requirement already satisfied: msgpack in f:\\anaconda3\\lib\\site-packages (0.5.6)\n",
      "Requirement already satisfied: seaborn in f:\\anaconda3\\lib\\site-packages (0.8.1)\n",
      "Requirement already satisfied: gym-retro in f:\\anaconda3\\lib\\site-packages (0.5.5)\n",
      "Requirement already satisfied: Pillow in f:\\anaconda3\\lib\\site-packages (5.1.0)\n",
      "Requirement already satisfied: keras in f:\\anaconda3\\lib\\site-packages (2.2.0)\n",
      "Requirement already satisfied: tensorflow in f:\\anaconda3\\lib\\site-packages (1.8.0)\n",
      "Requirement already satisfied: opencv-python in f:\\anaconda3\\lib\\site-packages (3.4.1.15)\n",
      "Requirement already satisfied: pandas in f:\\anaconda3\\lib\\site-packages (0.23.0)\n",
      "Requirement already satisfied: matplotlib in f:\\anaconda3\\lib\\site-packages (2.2.2)\n",
      "Requirement already satisfied: scipy in f:\\anaconda3\\lib\\site-packages (1.1.0)\n",
      "Requirement already satisfied: numpy in f:\\anaconda3\\lib\\site-packages (from seaborn) (1.14.3)\n",
      "Requirement already satisfied: gym in f:\\anaconda3\\lib\\site-packages (from gym-retro) (0.10.5)\n",
      "Requirement already satisfied: six>=1.9.0 in f:\\anaconda3\\lib\\site-packages (from keras) (1.11.0)\n",
      "Requirement already satisfied: h5py in f:\\anaconda3\\lib\\site-packages (from keras) (2.7.1)\n",
      "Requirement already satisfied: pyyaml in f:\\anaconda3\\lib\\site-packages (from keras) (3.12)\n",
      "Requirement already satisfied: keras-preprocessing==1.0.1 in f:\\anaconda3\\lib\\site-packages (from keras) (1.0.1)\n",
      "Requirement already satisfied: keras-applications==1.0.2 in f:\\anaconda3\\lib\\site-packages (from keras) (1.0.2)\n",
      "Requirement already satisfied: wheel>=0.26 in f:\\anaconda3\\lib\\site-packages (from tensorflow) (0.31.1)\n",
      "Requirement already satisfied: grpcio>=1.8.6 in f:\\anaconda3\\lib\\site-packages (from tensorflow) (1.12.1)\n",
      "Requirement already satisfied: astor>=0.6.0 in f:\\anaconda3\\lib\\site-packages (from tensorflow) (0.6.2)\n",
      "Requirement already satisfied: protobuf>=3.4.0 in f:\\anaconda3\\lib\\site-packages (from tensorflow) (3.5.2.post1)\n",
      "Requirement already satisfied: tensorboard<1.9.0,>=1.8.0 in f:\\anaconda3\\lib\\site-packages (from tensorflow) (1.8.0)\n",
      "Requirement already satisfied: termcolor>=1.1.0 in f:\\anaconda3\\lib\\site-packages (from tensorflow) (1.1.0)\n",
      "Requirement already satisfied: absl-py>=0.1.6 in f:\\anaconda3\\lib\\site-packages (from tensorflow) (0.2.2)\n",
      "Requirement already satisfied: gast>=0.2.0 in f:\\anaconda3\\lib\\site-packages (from tensorflow) (0.2.0)\n",
      "Requirement already satisfied: pytz>=2011k in f:\\anaconda3\\lib\\site-packages (from pandas) (2018.4)\n",
      "Requirement already satisfied: python-dateutil>=2.5.0 in f:\\anaconda3\\lib\\site-packages (from pandas) (2.7.3)\n",
      "Requirement already satisfied: cycler>=0.10 in f:\\anaconda3\\lib\\site-packages (from matplotlib) (0.10.0)\n",
      "Requirement already satisfied: pyparsing!=2.0.4,!=2.1.2,!=2.1.6,>=2.0.1 in f:\\anaconda3\\lib\\site-packages (from matplotlib) (2.2.0)\n",
      "Requirement already satisfied: kiwisolver>=1.0.1 in f:\\anaconda3\\lib\\site-packages (from matplotlib) (1.0.1)\n",
      "Requirement already satisfied: pyglet>=1.2.0 in f:\\anaconda3\\lib\\site-packages (from gym->gym-retro) (1.3.2)\n",
      "Requirement already satisfied: requests>=2.0 in f:\\anaconda3\\lib\\site-packages (from gym->gym-retro) (2.18.4)\n",
      "Requirement already satisfied: setuptools in f:\\anaconda3\\lib\\site-packages (from protobuf>=3.4.0->tensorflow) (39.1.0)\n",
      "Requirement already satisfied: html5lib==0.9999999 in f:\\anaconda3\\lib\\site-packages (from tensorboard<1.9.0,>=1.8.0->tensorflow) (0.9999999)\n",
      "Requirement already satisfied: bleach==1.5.0 in f:\\anaconda3\\lib\\site-packages (from tensorboard<1.9.0,>=1.8.0->tensorflow) (1.5.0)\n",
      "Requirement already satisfied: werkzeug>=0.11.10 in f:\\anaconda3\\lib\\site-packages (from tensorboard<1.9.0,>=1.8.0->tensorflow) (0.14.1)\n",
      "Requirement already satisfied: markdown>=2.6.8 in f:\\anaconda3\\lib\\site-packages (from tensorboard<1.9.0,>=1.8.0->tensorflow) (2.6.11)\n",
      "Requirement already satisfied: future in f:\\anaconda3\\lib\\site-packages (from pyglet>=1.2.0->gym->gym-retro) (0.16.0)\n",
      "Requirement already satisfied: chardet<3.1.0,>=3.0.2 in f:\\anaconda3\\lib\\site-packages (from requests>=2.0->gym->gym-retro) (3.0.4)\n",
      "Requirement already satisfied: idna<2.7,>=2.5 in f:\\anaconda3\\lib\\site-packages (from requests>=2.0->gym->gym-retro) (2.6)\n",
      "Requirement already satisfied: urllib3<1.23,>=1.21.1 in f:\\anaconda3\\lib\\site-packages (from requests>=2.0->gym->gym-retro) (1.22)\n",
      "Requirement already satisfied: certifi>=2017.4.17 in f:\\anaconda3\\lib\\site-packages (from requests>=2.0->gym->gym-retro) (2018.4.16)\n"
     ]
    }
   ],
   "source": [
    "import sys\n",
    "!{sys.executable} -m pip install msgpack seaborn gym-retro Pillow keras tensorflow opencv-python pandas matplotlib scipy"
   ]
  },
  {
   "cell_type": "markdown",
   "metadata": {},
   "source": [
    "Find and download the rom you wanna work base on the sha find on retro git (branch develop for more games).\n",
    "Example for Contra rom: https://github.com/openai/retro/blob/master/data/SonicTheHedgehog2-Genesis/rom.sha.\n",
    "\n",
    "Download the rom and put it into roms folder. Then run below code:"
   ]
  },
  {
   "cell_type": "code",
   "execution_count": 8,
   "metadata": {},
   "outputs": [
    {
     "name": "stdout",
     "output_type": "stream",
     "text": [
      "Importing 4 potential games...\n",
      "Importing SonicTheHedgehog2-Genesis\n",
      "Imported 1 games\n"
     ]
    }
   ],
   "source": [
    "!{sys.executable} -m retro.import roms/"
   ]
  },
  {
   "cell_type": "markdown",
   "metadata": {},
   "source": [
    "WIP I: Here we import real packages for our work."
   ]
  },
  {
   "cell_type": "code",
   "execution_count": 9,
   "metadata": {},
   "outputs": [],
   "source": [
    "import retro\n",
    "import cv2\n",
    "import os"
   ]
  },
  {
   "cell_type": "markdown",
   "metadata": {},
   "source": [
    "The very first run, I also try to stop the env when having a KeyboardInterrupt Exception. For now, we can stop it by click on `Stop` button of this notebook."
   ]
  },
  {
   "cell_type": "code",
   "execution_count": 10,
   "metadata": {},
   "outputs": [
    {
     "name": "stdout",
     "output_type": "stream",
     "text": [
      "Stopped by me. Me not an exception :D \n"
     ]
    }
   ],
   "source": [
    "def main():\n",
    "    env = retro.make(game='SonicTheHedgehog2-Genesis', state='AquaticRuinZone.Act1')\n",
    "    obs = env.reset()\n",
    "    try:\n",
    "        while True:\n",
    "            obs, rew, done, info = env.step(env.action_space.sample())\n",
    "            env.render()\n",
    "            if done:\n",
    "                obs = env.reset()\n",
    "    except KeyboardInterrupt as exc:\n",
    "        print('Stopped by me. Me not an exception :D', exc)\n",
    "        env.close()\n",
    "\n",
    "if __name__ == '__main__':\n",
    "    main()"
   ]
  },
  {
   "cell_type": "markdown",
   "metadata": {},
   "source": [
    "We can see the simulator render the game with our agent randomly do actions\n",
    "![first screen](files/images/sc1.png)"
   ]
  }
 ],
 "metadata": {
  "kernelspec": {
   "display_name": "Python 3",
   "language": "python",
   "name": "python3"
  },
  "language_info": {
   "codemirror_mode": {
    "name": "ipython",
    "version": 3
   },
   "file_extension": ".py",
   "mimetype": "text/x-python",
   "name": "python",
   "nbconvert_exporter": "python",
   "pygments_lexer": "ipython3",
   "version": "3.6.5"
  }
 },
 "nbformat": 4,
 "nbformat_minor": 2
}
