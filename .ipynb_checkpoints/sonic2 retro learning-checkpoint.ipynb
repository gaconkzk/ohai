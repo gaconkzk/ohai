{
 "cells": [
  {
   "cell_type": "markdown",
   "metadata": {},
   "source": [
    "# My first notebook working on create a agent for running Sonic The Hedgehog 2\n",
    "\n",
    "## Preparation\n",
    "### Python and Jupyter install\n",
    "- Download and install latest anaconda\n",
    "- Then run in your workspace folder\n",
    "```shell\n",
    "jupyter notebook\n",
    "```\n",
    "- Create a new notebook for your work :D...\n",
    "- Clone the gym-retro repositories, read instruction for install it\n",
    "```shell\n",
    "git clone https://github.com/openai/retro\n",
    "```\n",
    "- Buy and download the Sonic The Hedgehog 2 from Steam\n",
    "- Import the game into gym-retro\n"
   ]
  },
  {
   "cell_type": "markdown",
   "metadata": {},
   "source": [
    "## Go go master\n",
    "### First run"
   ]
  },
  {
   "cell_type": "code",
   "execution_count": null,
   "metadata": {},
   "outputs": [],
   "source": [
    "import sys\n",
    "!{sys.executable} -m pip install msgpack seaborn gym-retro Pillow keras tensorflow opencv-python pandas matplotlib scipy"
   ]
  },
  {
   "cell_type": "code",
   "execution_count": null,
   "metadata": {},
   "outputs": [],
   "source": [
    "import retro\n",
    "import cv2\n",
    "import os"
   ]
  },
  {
   "cell_type": "code",
   "execution_count": null,
   "metadata": {},
   "outputs": [],
   "source": [
    "def main():\n",
    "    env = retro.make(game='SonicTheHedgehog2-Genesis', state='AquaticRuinZone.Act1')\n",
    "    obs = env.reset()\n",
    "    \n",
    "    while True:\n",
    "        obs, rew, done, info = env.step(env.action_space.sample())\n",
    "        env.render()\n",
    "        if done:\n",
    "            obs = env.reset()\n",
    "\n",
    "    env.close()\n",
    "\n",
    "\n",
    "if __name__ == '__main__':\n",
    "    try:\n",
    "        main()\n",
    "    except KeyboardInterrupt as exc:\n",
    "        print('exception', exc)"
   ]
  },
  {
   "cell_type": "markdown",
   "metadata": {},
   "source": [
    "![first screen](files/images/sc1.png)"
   ]
  }
 ],
 "metadata": {
  "kernelspec": {
   "display_name": "Python 3",
   "language": "python",
   "name": "python3"
  },
  "language_info": {
   "codemirror_mode": {
    "name": "ipython",
    "version": 3
   },
   "file_extension": ".py",
   "mimetype": "text/x-python",
   "name": "python",
   "nbconvert_exporter": "python",
   "pygments_lexer": "ipython3",
   "version": "3.6.5"
  }
 },
 "nbformat": 4,
 "nbformat_minor": 2
}
